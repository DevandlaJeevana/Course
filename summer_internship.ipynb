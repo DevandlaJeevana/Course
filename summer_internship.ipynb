{
  "nbformat": 4,
  "nbformat_minor": 0,
  "metadata": {
    "colab": {
      "provenance": [],
      "authorship_tag": "ABX9TyPbxBls4r4jtyDf8FBVYPXb",
      "include_colab_link": true
    },
    "kernelspec": {
      "name": "python3",
      "display_name": "Python 3"
    },
    "language_info": {
      "name": "python"
    }
  },
  "cells": [
    {
      "cell_type": "markdown",
      "metadata": {
        "id": "view-in-github",
        "colab_type": "text"
      },
      "source": [
        "<a href=\"https://colab.research.google.com/github/DevandlaJeevana/Course/blob/main/summer_internship.ipynb\" target=\"_parent\"><img src=\"https://colab.research.google.com/assets/colab-badge.svg\" alt=\"Open In Colab\"/></a>"
      ]
    },
    {
      "cell_type": "code",
      "execution_count": null,
      "metadata": {
        "id": "S6f81z4P-0mP"
      },
      "outputs": [],
      "source": [
        "import pandas as pd\n",
        "import numpy as np\n",
        "import matplotlib.pyplot as plt\n",
        "import seaborn as sns\n",
        "import warnings\n",
        "warnings.filterwarnings('ignore')\n",
        "from sklearn import linear_model\n",
        "from sklearn.linear_model import LinearRegression\n",
        "from sklearn import metrics\n",
        "from sklearn.metrics import mean_squared_error, r2_score, mean_absolute_error\n",
        "from sklearn.model_selection import train_test_split, cross_val_score\n",
        "from sklearn.preprocessing  import StandardScaler\n",
        "df = pd.read_csv('DATA.csv')\n",
        "df=df.dropna(axis=1, how='all')\n",
        "df.head()\n",
        "df1 = df[['Volume','Weight','CO2']]\n",
        "print(df1.corr())\n",
        "df.describe()\n",
        "X=df[['Volume', 'Weight']]\n",
        "y=df['CO2']\n",
        "fig, axs = plt.subplots(2,figsize = (5,5))\n",
        "plt1 = sns.boxplot(df['Weight'], ax = axs[0])\n",
        "plt1 = sns.boxplot(df['Volume'], ax = axs[1])\n",
        "plt.tight_layout()\n",
        "fig, axs = plt.subplots(3,figsize = (5,5))\n",
        "plt1 = sns.distplot(df['Weight'], ax = axs[0])\n",
        "plt1 = sns.distplot(df['Volume'], ax = axs[1])\n",
        "plt3 = sns.distplot(df['CO2'], ax = axs[2])\n",
        "plt.tight_layout()\n",
        "sns.pairplot(df1, x_vars = [\"Weight\", \"Volume\"],y_vars= 'CO2',height= 4, aspect=1, kind='scatter')\n",
        "plt.show()\n",
        "sns.heatmap(df1.corr(),annot=True,cmap='coolwarm')\n",
        "plt.show()\n",
        "X_train, X_test, y_train, y_test = train_test_split(X, y, test_size = 0.3, random_state = 100)\n",
        "X_train.shape\n",
        "X_test.shape\n",
        "y_train.shape\n",
        "y_test.shape\n",
        "reg_model=linear_model.LinearRegression()\n",
        "reg_model=LinearRegression().fit(X_train,y_train)\n",
        "print('Intercept:',reg_model.intercept_)\n",
        "print('coefficeints:',reg_model.coef_)\n",
        "list(zip(X,reg_model.coef_))\n",
        "y_pred=reg_model.predict(X_test)\n",
        "y_pred\n",
        "X_pred=reg_model.predict(X_train)\n",
        "print(\"prediction for test set: {}\".format(y_pred))\n",
        "reg_model_diff=pd.DataFrame({'Actual value':y_test,'predicted value':y_pred})\n",
        "reg_model_diff\n",
        "y_train_pred=reg_model.predict(X_train)\n",
        "y_train_pred\n",
        "reg_model_train=pd.DataFrame({'Actual train value':y_train,'predicted_train value':y_train_pred,'train_value difference':y_train-y_train_pred})\n",
        "reg_model_train\n",
        "y_train_pred=reg_model.predict(X_train)\n",
        "y_train_pred\n",
        "print(\"Mean absolute error for test data:\",metrics.mean_absolute_error(y_test,y_pred))\n",
        "print(\"Mean squared error for test data:\",metrics.mean_squared_error(y_test,y_pred))\n",
        "print(\"root mean squared error for test data:\",np.sqrt(metrics.mean_squared_error(y_test,y_pred)))\n",
        "print('r2 score of the test data:',metrics.r2_score(y_test,y_pred))\n",
        "\n"
      ]
    }
  ]
}